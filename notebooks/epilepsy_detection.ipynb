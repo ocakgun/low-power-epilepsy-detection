{
 "cells": [
  {
   "cell_type": "code",
   "execution_count": 3,
   "metadata": {
    "pycharm": {
     "is_executing": false
    }
   },
   "outputs": [],
   "source": [
    "!git clone https://github.com/jmsvanrijn/low-power-epilepsy-detection.git"
   ]
  },
  {
   "cell_type": "code",
   "execution_count": 4,
   "metadata": {
    "pycharm": {
     "name": "#%% \n",
     "is_executing": false
    }
   },
   "outputs": [],
   "source": [
    "!pip install pyedflib"
   ]
  },
  {
   "cell_type": "code",
   "execution_count": 5,
   "outputs": [
    {
     "name": "stdout",
     "text": [
      "Succes\r\n",
      "Hier\r\n",
      "Traceback (most recent call last):\r\n",
      "  File \"../src/models/dataloader.py\", line 194, in <module>\r\n",
      "    train(epilepsy_net, optimizer, torch.nn.CrossEntropyLoss(), train_loader, test_loader, epochs=20, device=\"cpu\")\r\n",
      "  File \"../src/models/dataloader.py\", line 110, in train\r\n",
      "    for batch in train_loader:\r\n",
      "  File \"/usr/lib/python3.8/site-packages/torch/utils/data/dataloader.py\", line 345, in __next__\r\n",
      "    data = self._next_data()\r\n",
      "  File \"/usr/lib/python3.8/site-packages/torch/utils/data/dataloader.py\", line 385, in _next_data\r\n",
      "    data = self._dataset_fetcher.fetch(index)  # may raise StopIteration\r\n",
      "  File \"/usr/lib/python3.8/site-packages/torch/utils/data/_utils/fetch.py\", line 47, in fetch\r\n",
      "    return self.collate_fn(data)\r\n",
      "  File \"/usr/lib/python3.8/site-packages/torch/utils/data/_utils/collate.py\", line 79, in default_collate\r\n",
      "    return [default_collate(samples) for samples in transposed]\r\n",
      "  File \"/usr/lib/python3.8/site-packages/torch/utils/data/_utils/collate.py\", line 79, in <listcomp>\r\n",
      "    return [default_collate(samples) for samples in transposed]\r\n",
      "  File \"/usr/lib/python3.8/site-packages/torch/utils/data/_utils/collate.py\", line 79, in default_collate\r\n",
      "    return [default_collate(samples) for samples in transposed]\r\n",
      "  File \"/usr/lib/python3.8/site-packages/torch/utils/data/_utils/collate.py\", line 79, in <listcomp>\r\n",
      "    return [default_collate(samples) for samples in transposed]\r\n",
      "  File \"/usr/lib/python3.8/site-packages/torch/utils/data/_utils/collate.py\", line 64, in default_collate\r\n",
      "    return default_collate([torch.as_tensor(b) for b in batch])\r\n",
      "  File \"/usr/lib/python3.8/site-packages/torch/utils/data/_utils/collate.py\", line 55, in default_collate\r\n",
      "    return torch.stack(batch, 0, out=out)\r\n",
      "RuntimeError: invalid argument 0: Sizes of tensors must match except in dimension 0. Got 48640 and 14336 in dimension 2 at /pytorch/aten/src/TH/generic/THTensor.cpp:612\r\n"
     ],
     "output_type": "stream"
    }
   ],
   "source": [
    "# convolutional network model we will train to detect patterns in readings. For more information see my tutorial here.\n",
    "# Found at; https://github.com/SamLynnEvans/EEG-grasp-and-lift\n",
    "\n",
    "from pathlib import Path\n",
    "import random\n",
    "import pyedflib\n",
    "import torch\n",
    "import torch.nn as nn\n",
    "import torch.optim as optim\n",
    "from torch.utils.data import Dataset, DataLoader\n",
    "import torch.nn.functional as F"
   ],
   "metadata": {
    "collapsed": false,
    "pycharm": {
     "name": "#%%\n",
     "is_executing": false
    }
   }
  },
  {
   "cell_type": "code",
   "execution_count": null,
   "outputs": [],
   "source": [
    "class EpilepsyData(Dataset):\n",
    "    def __init__(self, data):\n",
    "        # Get directory listing from path\n",
    "\n",
    "        self.items = data\n",
    "        self.length = len(self.items)\n",
    "\n",
    "    def __getitem__(self, index):\n",
    "        filename, label = self.items[index]\n",
    "        signals = pyedflib.highlevel.read_edf(filename)\n",
    "        return signals, int(label)\n",
    "\n",
    "    def __len__(self):\n",
    "        return self.length\n",
    "\n",
    "\n",
    "bs = 12\n",
    "EEG_DATA = \"/home/jmsvanrijn/Documents/Afstuderen/Code/low-power-epilepsy-detection/data/processed/\"\n",
    "\n",
    "# Create a array seizures, 1= seizure, 0= normal\n",
    "seizures_2 = sorted(Path(EEG_DATA).glob('seizures/*.edf'))\n",
    "seizure_files_2 = [(str(seizure), str(1)) for seizure in seizures_2]\n",
    "\n",
    "normals_2 = sorted(Path(EEG_DATA).glob('normal/*.edf'))\n",
    "normal_files_2 = [(str(normal), str(0)) for normal in normals_2]\n",
    "\n",
    "all_data = seizure_files_2 + normal_files_2\n",
    "# Randomly shuffle data\n",
    "random.shuffle(all_data)\n",
    "data_loader = DataLoader(all_data, batch_size=bs, shuffle=True)"
   ],
   "metadata": {
    "collapsed": false,
    "pycharm": {
     "name": "#%%\n"
    }
   }
  },
  {
   "cell_type": "code",
   "execution_count": null,
   "outputs": [],
   "source": [
    "class convmodel(nn.Module):\n",
    "    def __init__(self, out_classes, drop=0.5, d_linear=124):\n",
    "        super().__init__()\n",
    "\n",
    "        self.conv2 = nn.Conv1d(23, 64, kernel_size=3, padding=0, stride=1)\n",
    "        self.bn = nn.BatchNorm1d(64)\n",
    "        self.pool = nn.MaxPool1d(2, stride=2)\n",
    "        self.linear1 = nn.Linear(8128, d_linear)\n",
    "\n",
    "        self.linear3 = nn.Linear(d_linear, out_classes)\n",
    "        self.dropout1 = nn.Dropout(drop)\n",
    "        self.dropout2 = nn.Dropout(drop)\n",
    "        self.dropout3 = nn.Dropout(drop)\n",
    "\n",
    "        self.conv = nn.Sequential(self.conv2, nn.ReLU(inplace=True), self.bn, self.pool, self.dropout1)\n",
    "        self.dense = nn.Sequential(self.linear1, nn.ReLU(inplace=True), self.dropout2, self.dropout3, self.linear3)\n",
    "\n",
    "    def forward(self, x):\n",
    "        bs = x.size(0)\n",
    "        x = self.conv(x)\n",
    "        x = x.view(bs, -1)\n",
    "        output = self.dense(x)\n",
    "\n",
    "        return torch.sigmoid(output)\n",
    "\n",
    "\n",
    "epilepsy_model = convmodel(2).double()"
   ],
   "metadata": {
    "collapsed": false,
    "pycharm": {
     "name": "#%%\n"
    }
   }
  },
  {
   "cell_type": "code",
   "execution_count": null,
   "outputs": [],
   "source": [
    "def get_samples(batch):\n",
    "    inputs, labels = batch\n",
    "    \n",
    "    return inputs, labels\n",
    "\n",
    "\n",
    "def train(data_loader, epochs, optimizer, model,printevery=100, shuffle=True, device=\"cpu\"):\n",
    "    epilepsy_model.train()\n",
    "    for epochs in range(epochs):\n",
    "\n",
    "        total_loss = 0\n",
    "        for batch in data_loader:\n",
    "            optimizer.zero_grad()\n",
    "            inputs, labels = get_samples(batch)\n",
    "            inputs = inputs.to(device)\n",
    "            labels = labels.to(device)\n",
    "            outputs = model(inputs)\n",
    "            loss = F.binaray_cross_entryopy(outputs.view(-1), labels.view(-1))\n",
    "            loss.backward()\n",
    "            total_loss += loss.data[0]\n",
    "            optimizer.step()\n",
    "\n",
    "\n",
    "lr = 0.01\n",
    "optimizer = optim.Adam(epilepsy_model.parameters(), lr=lr)\n",
    "train(data_loader, 1, optimizer, epilepsy_model, device=\"cuda\")\n"
   ],
   "metadata": {
    "collapsed": false,
    "pycharm": {
     "name": "#%%\n"
    }
   }
  }
 ],
 "metadata": {
  "kernelspec": {
   "display_name": "Python 3",
   "language": "python",
   "name": "python3"
  },
  "language_info": {
   "codemirror_mode": {
    "name": "ipython",
    "version": 3
   },
   "file_extension": ".py",
   "mimetype": "text/x-python",
   "name": "python",
   "nbconvert_exporter": "python",
   "pygments_lexer": "ipython3",
   "version": "3.8.1"
  },
  "pycharm": {
   "stem_cell": {
    "cell_type": "raw",
    "source": [],
    "metadata": {
     "collapsed": false
    }
   }
  }
 },
 "nbformat": 4,
 "nbformat_minor": 1
}